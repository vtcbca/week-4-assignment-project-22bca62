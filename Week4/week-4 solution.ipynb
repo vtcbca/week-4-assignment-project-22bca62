{
 "cells": [
  {
   "cell_type": "code",
   "execution_count": 1,
   "id": "ba757fda",
   "metadata": {},
   "outputs": [],
   "source": [
    "import sqlite3 as sq\n",
    "import datetime"
   ]
  },
  {
   "cell_type": "code",
   "execution_count": 2,
   "id": "c13aa47d",
   "metadata": {},
   "outputs": [],
   "source": [
    "con = sq.connect(\"contactmanagementsystem213.db\")"
   ]
  },
  {
   "cell_type": "code",
   "execution_count": 3,
   "id": "516af448",
   "metadata": {},
   "outputs": [],
   "source": [
    "cur = con.cursor()"
   ]
  },
  {
   "cell_type": "markdown",
   "id": "cdfa71e7",
   "metadata": {},
   "source": [
    "->create a contact table "
   ]
  },
  {
   "cell_type": "code",
   "execution_count": 4,
   "id": "4e39d8c1",
   "metadata": {},
   "outputs": [
    {
     "data": {
      "text/plain": [
       "<sqlite3.Cursor at 0x1513cb122c0>"
      ]
     },
     "execution_count": 4,
     "metadata": {},
     "output_type": "execute_result"
    }
   ],
   "source": [
    "cur.execute(\"\"\"create table if not exists contact\n",
    "               ( cid int primary key,\n",
    "                 fname text,\n",
    "                 lname text,\n",
    "                 contact number,\n",
    "                 email text,\n",
    "                 city text\n",
    "                 check ( email like '%_@_%._%')\n",
    "                );\"\"\")"
   ]
  },
  {
   "cell_type": "markdown",
   "id": "43dd8978",
   "metadata": {},
   "source": [
    "->table for insert,update, delete log"
   ]
  },
  {
   "cell_type": "code",
   "execution_count": 5,
   "id": "659e8007",
   "metadata": {},
   "outputs": [
    {
     "data": {
      "text/plain": [
       "<sqlite3.Cursor at 0x1513cb122c0>"
      ]
     },
     "execution_count": 5,
     "metadata": {},
     "output_type": "execute_result"
    }
   ],
   "source": [
    "cur.execute(\"\"\"create table if not exists details_log\n",
    "                (\n",
    "                    \n",
    "                    fname text,\n",
    "                    lname text,\n",
    "                    newcontact number,\n",
    "                    oldcontact number,\n",
    "                    datetime text,\n",
    "                    operation text\n",
    "                    \n",
    "                )\"\"\")"
   ]
  },
  {
   "cell_type": "markdown",
   "id": "f58fb366",
   "metadata": {},
   "source": [
    "->trigger for insert log"
   ]
  },
  {
   "cell_type": "code",
   "execution_count": 6,
   "id": "d0b4f402",
   "metadata": {},
   "outputs": [
    {
     "data": {
      "text/plain": [
       "<sqlite3.Cursor at 0x1513cb122c0>"
      ]
     },
     "execution_count": 6,
     "metadata": {},
     "output_type": "execute_result"
    }
   ],
   "source": [
    "cur.execute(\"\"\"create trigger if not exists insertdata\n",
    "               after insert on contact\n",
    "               begin\n",
    "                   insert into details_log\n",
    "                   values(new.fname,new.lname,new.contact,'NULL',datetime('now'),'insert');\n",
    "               end;\n",
    "                   \"\"\")"
   ]
  },
  {
   "cell_type": "markdown",
   "id": "6046f739",
   "metadata": {},
   "source": [
    "->trigger for delete log"
   ]
  },
  {
   "cell_type": "code",
   "execution_count": 7,
   "id": "51c35268",
   "metadata": {},
   "outputs": [
    {
     "data": {
      "text/plain": [
       "<sqlite3.Cursor at 0x1513cb122c0>"
      ]
     },
     "execution_count": 7,
     "metadata": {},
     "output_type": "execute_result"
    }
   ],
   "source": [
    "cur.execute(\"\"\"create trigger if not exists deletedata\n",
    "               after delete on contact\n",
    "               begin\n",
    "                   insert into details_log\n",
    "                   values(old.fname,old.lname,'NULL',old.contact,datetime('now'),'delete');\n",
    "               end;\n",
    "                   \"\"\")"
   ]
  },
  {
   "cell_type": "markdown",
   "id": "3a884880",
   "metadata": {},
   "source": [
    "->trigger for delete log"
   ]
  },
  {
   "cell_type": "code",
   "execution_count": 8,
   "id": "84c9c663",
   "metadata": {},
   "outputs": [
    {
     "data": {
      "text/plain": [
       "<sqlite3.Cursor at 0x1513cb122c0>"
      ]
     },
     "execution_count": 8,
     "metadata": {},
     "output_type": "execute_result"
    }
   ],
   "source": [
    "cur.execute(\"\"\"create trigger if not exists updatedata\n",
    "               after update on contact\n",
    "               begin\n",
    "                   insert into details_log\n",
    "                   values(new.fname,new.lname,new.contact,old.contact,datetime('now'),'update');\n",
    "               end;\n",
    "                   \"\"\")"
   ]
  },
  {
   "cell_type": "code",
   "execution_count": 9,
   "id": "8f15e510",
   "metadata": {},
   "outputs": [],
   "source": [
    "# def insertdata(n):\n",
    "#     data=[]\n",
    "#     for i in range(n):\n",
    "#         cid=int(input(\"Enter Contact ID:\"))\n",
    "#         fname=input(\"Enter Contact First Name:\")\n",
    "#         lname=input(\"Enter Contact Last Name:\")\n",
    "#         contact=int(input(\"Enter Contact Number:\"))\n",
    "#         email=input(\"Enter Contact Email:\")\n",
    "#         city=input(\"Enter Contact City:\")\n",
    "#         record=(cid,fname,lname,contact,email,city)\n",
    "#         data.append(record)\n",
    "#     cur.executemany(\"insert into contact values(?,?,?,?,?,?)\",data)"
   ]
  },
  {
   "cell_type": "code",
   "execution_count": 10,
   "id": "23fead7a",
   "metadata": {},
   "outputs": [],
   "source": [
    "def updaterecord(cd):\n",
    "    newcon=int(input(\"Enter new Contact Number:\"))\n",
    "    cur.execute(f\"Update contact set contact={newcon} where cid={cd};\")"
   ]
  },
  {
   "cell_type": "code",
   "execution_count": 11,
   "id": "9919d151",
   "metadata": {},
   "outputs": [],
   "source": [
    "def deleterecord(cd):\n",
    "    cur.execute(f\"delete from contact where cid={cd}\")"
   ]
  },
  {
   "cell_type": "code",
   "execution_count": 12,
   "id": "b091c03a",
   "metadata": {},
   "outputs": [],
   "source": [
    "def searchrecord(cd):\n",
    "    cur.execute(f\"select * from contact where cid={cd}\")\n",
    "    row=cur.fetchall()\n",
    "    print(row)"
   ]
  },
  {
   "cell_type": "code",
   "execution_count": 13,
   "id": "a89f9b26",
   "metadata": {},
   "outputs": [
    {
     "data": {
      "text/plain": [
       "<sqlite3.Cursor at 0x1513cb122c0>"
      ]
     },
     "execution_count": 13,
     "metadata": {},
     "output_type": "execute_result"
    }
   ],
   "source": [
    "cur.execute(\"\"\"insert into contact values\n",
    "                (1,'sunil','sakaliya',9034567898,'sunil@gmail.com','asta'),\n",
    "                (2,'kailash','shahu',9316203288,'kailashshahu009@gmail.com','valod'),\n",
    "                (3,'dev','rathod',8970564789,'dev@gmail.com','vyara'),\n",
    "                (4,'parth','rabari',8976620101,'ayaz@gmail.com','bardoli'),\n",
    "                (5,'sai','patel',9987120302,'sai@gmail.com','madhi');\"\"\")"
   ]
  },
  {
   "cell_type": "code",
   "execution_count": 14,
   "id": "d1f5efab",
   "metadata": {},
   "outputs": [
    {
     "name": "stdout",
     "output_type": "stream",
     "text": [
      "Enter new Contact Number:9054051480\n"
     ]
    }
   ],
   "source": [
    "updaterecord(2)"
   ]
  },
  {
   "cell_type": "code",
   "execution_count": 15,
   "id": "7335c71b",
   "metadata": {},
   "outputs": [],
   "source": [
    "deleterecord(3)"
   ]
  },
  {
   "cell_type": "code",
   "execution_count": 16,
   "id": "bb3b08a0",
   "metadata": {},
   "outputs": [
    {
     "name": "stdout",
     "output_type": "stream",
     "text": [
      "\n",
      "ID:1\n",
      "Fname:sunil\n",
      "Lname:sakaliya\n",
      "Contact:9034567898\n",
      "Email:sunil@gmail.com\n",
      "city:asta\n",
      "\n",
      "ID:2\n",
      "Fname:kailash\n",
      "Lname:shahu\n",
      "Contact:9054051480\n",
      "Email:kailashshahu009@gmail.com\n",
      "city:valod\n",
      "\n",
      "ID:4\n",
      "Fname:parth\n",
      "Lname:rabari\n",
      "Contact:8976620101\n",
      "Email:ayaz@gmail.com\n",
      "city:bardoli\n",
      "\n",
      "ID:5\n",
      "Fname:sai\n",
      "Lname:patel\n",
      "Contact:9987120302\n",
      "Email:sai@gmail.com\n",
      "city:madhi\n"
     ]
    }
   ],
   "source": [
    "cur.execute(\"select * from contact\")\n",
    "row=cur.fetchall()\n",
    "for i in row:\n",
    "    print(f\"\\nID:{i[0]}\\nFname:{i[1]}\\nLname:{i[2]}\\nContact:{i[3]}\\nEmail:{i[4]}\\ncity:{i[5]}\")"
   ]
  },
  {
   "cell_type": "code",
   "execution_count": 17,
   "id": "6917d439",
   "metadata": {},
   "outputs": [
    {
     "name": "stdout",
     "output_type": "stream",
     "text": [
      "[('sunil', 'sakaliya', 9034567898, 'NULL', '2023-08-10 08:00:03', 'insert'), ('kailash', 'shahu', 9316203288, 'NULL', '2023-08-10 08:00:03', 'insert'), ('dev', 'rathod', 8970564789, 'NULL', '2023-08-10 08:00:03', 'insert'), ('parth', 'rabari', 8976620101, 'NULL', '2023-08-10 08:00:03', 'insert'), ('sai', 'patel', 9987120302, 'NULL', '2023-08-10 08:00:03', 'insert'), ('kailash', 'shahu', 9054051480, 9316203288, '2023-08-10 08:00:29', 'update'), ('dev', 'rathod', 'NULL', 8970564789, '2023-08-10 08:00:31', 'delete')]\n",
      "\n",
      "Fname:sunil\n",
      "Lname:sakaliya\n",
      "New-contact:9034567898\n",
      "Old-Contact:NULL\n",
      "Datetime:2023-08-10 08:00:03\n",
      "Operation:insert\n",
      "\n",
      "Fname:kailash\n",
      "Lname:shahu\n",
      "New-contact:9316203288\n",
      "Old-Contact:NULL\n",
      "Datetime:2023-08-10 08:00:03\n",
      "Operation:insert\n",
      "\n",
      "Fname:dev\n",
      "Lname:rathod\n",
      "New-contact:8970564789\n",
      "Old-Contact:NULL\n",
      "Datetime:2023-08-10 08:00:03\n",
      "Operation:insert\n",
      "\n",
      "Fname:parth\n",
      "Lname:rabari\n",
      "New-contact:8976620101\n",
      "Old-Contact:NULL\n",
      "Datetime:2023-08-10 08:00:03\n",
      "Operation:insert\n",
      "\n",
      "Fname:sai\n",
      "Lname:patel\n",
      "New-contact:9987120302\n",
      "Old-Contact:NULL\n",
      "Datetime:2023-08-10 08:00:03\n",
      "Operation:insert\n",
      "\n",
      "Fname:kailash\n",
      "Lname:shahu\n",
      "New-contact:9054051480\n",
      "Old-Contact:9316203288\n",
      "Datetime:2023-08-10 08:00:29\n",
      "Operation:update\n",
      "\n",
      "Fname:dev\n",
      "Lname:rathod\n",
      "New-contact:NULL\n",
      "Old-Contact:8970564789\n",
      "Datetime:2023-08-10 08:00:31\n",
      "Operation:delete\n"
     ]
    }
   ],
   "source": [
    "cur.execute(\"select * from details_log\")\n",
    "row1=cur.fetchall()\n",
    "print(row1)\n",
    "for i in row1:\n",
    "    print(f\"\\nFname:{i[0]}\\nLname:{i[1]}\\nNew-contact:{i[2]}\\nOld-Contact:{i[3]}\\nDatetime:{i[4]}\\nOperation:{i[5]}\")"
   ]
  },
  {
   "cell_type": "code",
   "execution_count": null,
   "id": "ba434f6e",
   "metadata": {},
   "outputs": [],
   "source": []
  }
 ],
 "metadata": {
  "kernelspec": {
   "display_name": "Python 3 (ipykernel)",
   "language": "python",
   "name": "python3"
  },
  "language_info": {
   "codemirror_mode": {
    "name": "ipython",
    "version": 3
   },
   "file_extension": ".py",
   "mimetype": "text/x-python",
   "name": "python",
   "nbconvert_exporter": "python",
   "pygments_lexer": "ipython3",
   "version": "3.9.6"
  }
 },
 "nbformat": 4,
 "nbformat_minor": 5
}
